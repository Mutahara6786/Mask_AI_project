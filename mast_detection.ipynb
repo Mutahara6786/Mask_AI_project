{
  "nbformat": 4,
  "nbformat_minor": 0,
  "metadata": {
    "colab": {
      "name": "mast_detection",
      "provenance": []
    },
    "kernelspec": {
      "name": "python3",
      "display_name": "Python 3"
    },
    "language_info": {
      "name": "python"
    }
  },
  "cells": [
    {
      "cell_type": "code",
      "execution_count": null,
      "metadata": {
        "id": "UXiurAIJc7rv"
      },
      "outputs": [],
      "source": [
        "import cv2\n",
        "import os\n",
        "import numpy as np\n"
      ]
    },
    {
      "cell_type": "code",
      "source": [
        "Dataset = []\n",
        "classNumber = 0\n",
        "img_size = 100\n",
        "path = \"/content/drive/MyDrive/Data_testing\""
      ],
      "metadata": {
        "id": "D3NKoNfmd3D6"
      },
      "execution_count": 80,
      "outputs": []
    },
    {
      "cell_type": "code",
      "source": [
        ""
      ],
      "metadata": {
        "id": "7sK8Qz5Ulml2"
      },
      "execution_count": null,
      "outputs": []
    },
    {
      "cell_type": "code",
      "source": [
        ""
      ],
      "metadata": {
        "id": "_VY0ZhYMllbP"
      },
      "execution_count": null,
      "outputs": []
    },
    {
      "cell_type": "code",
      "source": [
        "Dataset.clear()\n",
        "for folder in (os.listdir(path)):\n",
        "  print(classNumber)\n",
        "  fp = os.path.join(path,folder)\n",
        "  for eachImage in os.listdir(fp):\n",
        "    imagePath = os.path.join(fp,eachImage)\n",
        "    img = (cv2.imread(imagePath,cv2.IMREAD_GRAYSCALE))/255\n",
        "    resized = cv2.resize(img , (img_size , img_size))\n",
        "    Dataset.append([resized,classNumber])\n",
        "    \n",
        "  classNumber = classNumber + 1\n",
        "\n",
        "print(len(Dataset))\n",
        "print(len(Dataset[0]))\n",
        "print(Dataset[0])"
      ],
      "metadata": {
        "colab": {
          "base_uri": "https://localhost:8080/"
        },
        "id": "GIaKCB1jeQIe",
        "outputId": "8d788c17-4114-4eaf-e8cc-5e2734b5133c"
      },
      "execution_count": 81,
      "outputs": [
        {
          "output_type": "stream",
          "name": "stdout",
          "text": [
            "0\n",
            "1\n",
            "4\n",
            "2\n",
            "[array([[1., 1., 1., ..., 1., 1., 1.],\n",
            "       [1., 1., 1., ..., 1., 1., 1.],\n",
            "       [1., 1., 1., ..., 1., 1., 1.],\n",
            "       ...,\n",
            "       [1., 1., 1., ..., 1., 1., 1.],\n",
            "       [1., 1., 1., ..., 1., 1., 1.],\n",
            "       [1., 1., 1., ..., 1., 1., 1.]]), 0]\n"
          ]
        }
      ]
    },
    {
      "cell_type": "code",
      "source": [
        "import pickle\n",
        "import time\n",
        "from tensorflow.keras.models import Sequential\n",
        "from tensorflow.keras.callbacks import TensorBoard\n",
        "from tensorflow.keras.layers import Dense, Dropout, Activation, Flatten\n",
        "from tensorflow.keras.utils import to_categorical\n",
        "from tensorflow.keras.layers import Conv2D, MaxPooling2D\n"
      ],
      "metadata": {
        "id": "31Zc8AhzeRlM"
      },
      "execution_count": 82,
      "outputs": []
    },
    {
      "cell_type": "code",
      "source": [
        "X = []\n",
        "Y = []\n",
        "img_size = 100\n",
        "np.random.shuffle(Dataset)\n",
        "for features, label in Dataset:\n",
        "    X.append(features)\n",
        "    Y.append(label)\n",
        "print(Y)    "
      ],
      "metadata": {
        "colab": {
          "base_uri": "https://localhost:8080/"
        },
        "id": "bL2E0IiYeW4F",
        "outputId": "04119775-4e13-48d4-d64b-205299a9694c"
      },
      "execution_count": 83,
      "outputs": [
        {
          "output_type": "stream",
          "name": "stdout",
          "text": [
            "[0, 1, 1, 0]\n"
          ]
        }
      ]
    },
    {
      "cell_type": "code",
      "source": [
        "X = np.array(X).reshape(-1, img_size, img_size, 1)\n",
        "Y_binary = to_categorical(Y)\n",
        "print(Y_binary)"
      ],
      "metadata": {
        "colab": {
          "base_uri": "https://localhost:8080/"
        },
        "id": "UxkB3pJoefon",
        "outputId": "e772a901-c538-4a2d-90a4-f0a9dad6d489"
      },
      "execution_count": 84,
      "outputs": [
        {
          "output_type": "stream",
          "name": "stdout",
          "text": [
            "[[1. 0.]\n",
            " [0. 1.]\n",
            " [0. 1.]\n",
            " [1. 0.]]\n"
          ]
        }
      ]
    },
    {
      "cell_type": "code",
      "source": [
        "model = Sequential()\n",
        "\n",
        "model.add(Conv2D(40, (3, 3), input_shape=(100,100,1)))\n",
        "model.add(Activation('relu'))\n",
        "model.add(MaxPooling2D(pool_size=(2, 2)))\n",
        "model.add(Dropout(0.3))\n",
        "\n",
        "model.add(Conv2D(60, (3, 3)))\n",
        "model.add(Activation('relu'))\n",
        "model.add(MaxPooling2D(pool_size=(2, 2)))\n",
        "model.add(Dropout(0.3))\n",
        "\n",
        "model.add(Conv2D(80, (3, 3)))\n",
        "model.add(Activation('relu'))\n",
        "model.add(MaxPooling2D(pool_size=(2, 2)))\n",
        "model.add(Dropout(0.3))\n",
        "\n",
        "model.add(Flatten())\n",
        "\n",
        "model.add(Dense(100))\n",
        "model.add(Activation('relu'))\n",
        " \n",
        "model.add(Dense(2))\n",
        "model.add(Activation('softmax'))\n",
        "\n"
      ],
      "metadata": {
        "id": "9cASxdH9elTw"
      },
      "execution_count": 85,
      "outputs": []
    },
    {
      "cell_type": "code",
      "source": [
        "model.compile(loss='categorical_crossentropy',\n",
        "              optimizer='adam',\n",
        "              metrics=['accuracy'],\n",
        "              )"
      ],
      "metadata": {
        "id": "3WLP2U_Oez7x"
      },
      "execution_count": 86,
      "outputs": []
    },
    {
      "cell_type": "code",
      "source": [
        "\n",
        "model.fit(X, Y_binary, batch_size = 32, epochs=20, validation_split = 0.3)\n",
        "model.save(\"face_detect/Models/{NAME}.model\")"
      ],
      "metadata": {
        "colab": {
          "base_uri": "https://localhost:8080/"
        },
        "id": "Z6dkV1_5e64l",
        "outputId": "a239f60e-c9df-40a2-fe17-b211188ece42"
      },
      "execution_count": 87,
      "outputs": [
        {
          "output_type": "stream",
          "name": "stdout",
          "text": [
            "Epoch 1/20\n",
            "1/1 [==============================] - 1s 688ms/step - loss: 0.6455 - accuracy: 1.0000 - val_loss: 0.6870 - val_accuracy: 0.5000\n",
            "Epoch 2/20\n",
            "1/1 [==============================] - 0s 73ms/step - loss: 0.6090 - accuracy: 0.5000 - val_loss: 0.6886 - val_accuracy: 0.5000\n",
            "Epoch 3/20\n",
            "1/1 [==============================] - 0s 83ms/step - loss: 0.5481 - accuracy: 0.5000 - val_loss: 0.6926 - val_accuracy: 0.5000\n",
            "Epoch 4/20\n",
            "1/1 [==============================] - 0s 64ms/step - loss: 0.4763 - accuracy: 1.0000 - val_loss: 0.6977 - val_accuracy: 0.5000\n",
            "Epoch 5/20\n",
            "1/1 [==============================] - 0s 77ms/step - loss: 0.2257 - accuracy: 1.0000 - val_loss: 0.7113 - val_accuracy: 0.5000\n",
            "Epoch 6/20\n",
            "1/1 [==============================] - 0s 67ms/step - loss: 0.2270 - accuracy: 1.0000 - val_loss: 0.7334 - val_accuracy: 0.5000\n",
            "Epoch 7/20\n",
            "1/1 [==============================] - 0s 77ms/step - loss: 0.1010 - accuracy: 1.0000 - val_loss: 0.8109 - val_accuracy: 0.5000\n",
            "Epoch 8/20\n",
            "1/1 [==============================] - 0s 76ms/step - loss: 0.0390 - accuracy: 1.0000 - val_loss: 1.0022 - val_accuracy: 0.5000\n",
            "Epoch 9/20\n",
            "1/1 [==============================] - 0s 80ms/step - loss: 0.0129 - accuracy: 1.0000 - val_loss: 1.3041 - val_accuracy: 0.5000\n",
            "Epoch 10/20\n",
            "1/1 [==============================] - 0s 73ms/step - loss: 0.0034 - accuracy: 1.0000 - val_loss: 1.6797 - val_accuracy: 0.5000\n",
            "Epoch 11/20\n",
            "1/1 [==============================] - 0s 82ms/step - loss: 0.0010 - accuracy: 1.0000 - val_loss: 2.0952 - val_accuracy: 0.5000\n",
            "Epoch 12/20\n",
            "1/1 [==============================] - 0s 80ms/step - loss: 3.1336e-04 - accuracy: 1.0000 - val_loss: 2.5372 - val_accuracy: 0.5000\n",
            "Epoch 13/20\n",
            "1/1 [==============================] - 0s 75ms/step - loss: 6.1210e-05 - accuracy: 1.0000 - val_loss: 2.9928 - val_accuracy: 0.5000\n",
            "Epoch 14/20\n",
            "1/1 [==============================] - 0s 73ms/step - loss: 4.4403e-05 - accuracy: 1.0000 - val_loss: 3.4549 - val_accuracy: 0.5000\n",
            "Epoch 15/20\n",
            "1/1 [==============================] - 0s 112ms/step - loss: 1.3053e-05 - accuracy: 1.0000 - val_loss: 3.9153 - val_accuracy: 0.5000\n",
            "Epoch 16/20\n",
            "1/1 [==============================] - 0s 97ms/step - loss: 6.9737e-06 - accuracy: 1.0000 - val_loss: 4.3636 - val_accuracy: 0.5000\n",
            "Epoch 17/20\n",
            "1/1 [==============================] - 0s 73ms/step - loss: 9.5367e-07 - accuracy: 1.0000 - val_loss: 4.8012 - val_accuracy: 0.5000\n",
            "Epoch 18/20\n",
            "1/1 [==============================] - 0s 80ms/step - loss: 2.3842e-07 - accuracy: 1.0000 - val_loss: 5.2263 - val_accuracy: 0.5000\n",
            "Epoch 19/20\n",
            "1/1 [==============================] - 0s 78ms/step - loss: 2.3842e-07 - accuracy: 1.0000 - val_loss: 5.6355 - val_accuracy: 0.5000\n",
            "Epoch 20/20\n",
            "1/1 [==============================] - 0s 74ms/step - loss: 0.0000e+00 - accuracy: 1.0000 - val_loss: 6.0267 - val_accuracy: 0.5000\n",
            "INFO:tensorflow:Assets written to: face_detect/Models/{NAME}.model/assets\n"
          ]
        }
      ]
    },
    {
      "cell_type": "code",
      "source": [
        "from google.colab import drive\n",
        "drive.mount('/content/drive')"
      ],
      "metadata": {
        "colab": {
          "base_uri": "https://localhost:8080/"
        },
        "id": "9JOZEtQgg1PV",
        "outputId": "f19d33fd-0949-43af-c5db-97f2db1831ea"
      },
      "execution_count": 88,
      "outputs": [
        {
          "output_type": "stream",
          "name": "stdout",
          "text": [
            "Drive already mounted at /content/drive; to attempt to forcibly remount, call drive.mount(\"/content/drive\", force_remount=True).\n"
          ]
        }
      ]
    },
    {
      "cell_type": "code",
      "source": [
        "def prepare(filepath):\n",
        "    img_size = 100 \n",
        "    img = cv2.imread(filepath, cv2.IMREAD_GRAYSCALE)/255  \n",
        "    img_resize = cv2.resize(img, (img_size, img_size))  \n",
        "    return img_resize.reshape(-1, img_size, img_size, 1)"
      ],
      "metadata": {
        "id": "lZUlal3Ae_vs"
      },
      "execution_count": 89,
      "outputs": []
    },
    {
      "cell_type": "code",
      "source": [
        "prediction = model.predict(prepare(\"/content/drive/MyDrive/Data_testing/without_mask/9af1a4ca-a9a9-458f-9a85-1518adc33614.jpg\"))\n",
        "print((prediction))\n",
        "\n",
        "CATEGORIES = [\"Without_mask\" , \"With_mask\"]\n",
        "\n",
        "pred_class = CATEGORIES[np.argmax(prediction)]\n",
        "print(pred_class)\n",
        "\n"
      ],
      "metadata": {
        "colab": {
          "base_uri": "https://localhost:8080/"
        },
        "id": "-PH89cAwfHmo",
        "outputId": "50a3b9d6-540d-4a66-c711-80b3759694eb"
      },
      "execution_count": 93,
      "outputs": [
        {
          "output_type": "stream",
          "name": "stdout",
          "text": [
            "[[9.9997628e-01 2.3755661e-05]]\n",
            "Without_mask\n"
          ]
        }
      ]
    },
    {
      "cell_type": "code",
      "source": [
        ""
      ],
      "metadata": {
        "id": "IHabkqS3fOhS"
      },
      "execution_count": null,
      "outputs": []
    }
  ]
}